{
 "cells": [
  {
   "cell_type": "markdown",
   "id": "3db3789b",
   "metadata": {},
   "source": [
    "All right, for our next demo let's do some sentiment analysis on this restaurant data. I suppose we'll use rating as the target."
   ]
  },
  {
   "cell_type": "code",
   "execution_count": 1,
   "id": "43b58811",
   "metadata": {},
   "outputs": [],
   "source": [
    "import pandas as pd\n",
    "import numpy as np\n",
    "\n",
    "import regex as re\n",
    "from nltk.stem.porter import PorterStemmer"
   ]
  },
  {
   "cell_type": "code",
   "execution_count": 2,
   "id": "d548533c",
   "metadata": {},
   "outputs": [
    {
     "name": "stdout",
     "output_type": "stream",
     "text": [
      "(10000, 8)\n"
     ]
    },
    {
     "data": {
      "text/html": [
       "<div>\n",
       "<style scoped>\n",
       "    .dataframe tbody tr th:only-of-type {\n",
       "        vertical-align: middle;\n",
       "    }\n",
       "\n",
       "    .dataframe tbody tr th {\n",
       "        vertical-align: top;\n",
       "    }\n",
       "\n",
       "    .dataframe thead th {\n",
       "        text-align: right;\n",
       "    }\n",
       "</style>\n",
       "<table border=\"1\" class=\"dataframe\">\n",
       "  <thead>\n",
       "    <tr style=\"text-align: right;\">\n",
       "      <th></th>\n",
       "      <th>restaurant</th>\n",
       "      <th>reviewer</th>\n",
       "      <th>review</th>\n",
       "      <th>rating</th>\n",
       "      <th>metadata</th>\n",
       "      <th>time</th>\n",
       "      <th>pictures</th>\n",
       "      <th>7514</th>\n",
       "    </tr>\n",
       "  </thead>\n",
       "  <tbody>\n",
       "    <tr>\n",
       "      <th>0</th>\n",
       "      <td>Beyond Flavours</td>\n",
       "      <td>Rusha Chakraborty</td>\n",
       "      <td>The ambience was good, food was quite good . h...</td>\n",
       "      <td>5</td>\n",
       "      <td>1 Review , 2 Followers</td>\n",
       "      <td>5/25/2019 15:54</td>\n",
       "      <td>0</td>\n",
       "      <td>2447.0</td>\n",
       "    </tr>\n",
       "    <tr>\n",
       "      <th>1</th>\n",
       "      <td>Beyond Flavours</td>\n",
       "      <td>Anusha Tirumalaneedi</td>\n",
       "      <td>Ambience is too good for a pleasant evening. S...</td>\n",
       "      <td>5</td>\n",
       "      <td>3 Reviews , 2 Followers</td>\n",
       "      <td>5/25/2019 14:20</td>\n",
       "      <td>0</td>\n",
       "      <td>NaN</td>\n",
       "    </tr>\n",
       "    <tr>\n",
       "      <th>2</th>\n",
       "      <td>Beyond Flavours</td>\n",
       "      <td>Ashok Shekhawat</td>\n",
       "      <td>A must try.. great food great ambience. Thnx f...</td>\n",
       "      <td>5</td>\n",
       "      <td>2 Reviews , 3 Followers</td>\n",
       "      <td>5/24/2019 22:54</td>\n",
       "      <td>0</td>\n",
       "      <td>NaN</td>\n",
       "    </tr>\n",
       "    <tr>\n",
       "      <th>3</th>\n",
       "      <td>Beyond Flavours</td>\n",
       "      <td>Swapnil Sarkar</td>\n",
       "      <td>Soumen das and Arun was a great guy. Only beca...</td>\n",
       "      <td>5</td>\n",
       "      <td>1 Review , 1 Follower</td>\n",
       "      <td>5/24/2019 22:11</td>\n",
       "      <td>0</td>\n",
       "      <td>NaN</td>\n",
       "    </tr>\n",
       "    <tr>\n",
       "      <th>4</th>\n",
       "      <td>Beyond Flavours</td>\n",
       "      <td>Dileep</td>\n",
       "      <td>Food is good.we ordered Kodi drumsticks and ba...</td>\n",
       "      <td>5</td>\n",
       "      <td>3 Reviews , 2 Followers</td>\n",
       "      <td>5/24/2019 21:37</td>\n",
       "      <td>0</td>\n",
       "      <td>NaN</td>\n",
       "    </tr>\n",
       "  </tbody>\n",
       "</table>\n",
       "</div>"
      ],
      "text/plain": [
       "        restaurant              reviewer  \\\n",
       "0  Beyond Flavours     Rusha Chakraborty   \n",
       "1  Beyond Flavours  Anusha Tirumalaneedi   \n",
       "2  Beyond Flavours       Ashok Shekhawat   \n",
       "3  Beyond Flavours        Swapnil Sarkar   \n",
       "4  Beyond Flavours                Dileep   \n",
       "\n",
       "                                              review rating  \\\n",
       "0  The ambience was good, food was quite good . h...      5   \n",
       "1  Ambience is too good for a pleasant evening. S...      5   \n",
       "2  A must try.. great food great ambience. Thnx f...      5   \n",
       "3  Soumen das and Arun was a great guy. Only beca...      5   \n",
       "4  Food is good.we ordered Kodi drumsticks and ba...      5   \n",
       "\n",
       "                  metadata             time  pictures    7514  \n",
       "0   1 Review , 2 Followers  5/25/2019 15:54         0  2447.0  \n",
       "1  3 Reviews , 2 Followers  5/25/2019 14:20         0     NaN  \n",
       "2  2 Reviews , 3 Followers  5/24/2019 22:54         0     NaN  \n",
       "3    1 Review , 1 Follower  5/24/2019 22:11         0     NaN  \n",
       "4  3 Reviews , 2 Followers  5/24/2019 21:37         0     NaN  "
      ]
     },
     "execution_count": 2,
     "metadata": {},
     "output_type": "execute_result"
    }
   ],
   "source": [
    "pd.set_option('display.max_columns', None)\n",
    "df = pd.read_csv('../data/Restaurant reviews.csv')\n",
    "df.columns = df.columns.str.lower().str.replace(' ', '_').str.replace('.', '') #Clean the titles for ease of coding\n",
    "print(df.shape)\n",
    "df.head()"
   ]
  },
  {
   "cell_type": "code",
   "execution_count": 3,
   "id": "af8d23eb",
   "metadata": {},
   "outputs": [
    {
     "data": {
      "text/plain": [
       "restaurant       0\n",
       "reviewer        38\n",
       "review          45\n",
       "rating          38\n",
       "metadata        38\n",
       "time            38\n",
       "pictures         0\n",
       "7514          9999\n",
       "dtype: int64"
      ]
     },
     "execution_count": 3,
     "metadata": {},
     "output_type": "execute_result"
    }
   ],
   "source": [
    "df.isnull().sum()"
   ]
  },
  {
   "cell_type": "markdown",
   "id": "5e82be46",
   "metadata": {},
   "source": [
    "Thankfully we have the restaurant - as it'd be essentially impossible to do any type of data subsitution for that.<br>\n",
    "Reviewer could be interesting if we only have like 10 food critics and can actually observe how each one words their dis/likes. However, I'd say if it's very large we'll just ignore it for our purposes (which is just to demonstrate potential business applications of NLP/sentiment analysis).<br>\n",
    "Review - what we care about. Enough said. Of note will be if there's potentially a trend for more positive/negative reviews to be wordier (using the derived word count as a potential feature).<br>\n",
    "Rating - enough said.<br>\n",
    "Metadata - some type of social media thing. May contribute to potentially being a more positive or negative review - to garner more of a reaction.<br>\n",
    "Time - what to say when it comes to potential traffic, holidays, etc.. However, I doubt I'll get into that with this project.<br>\n",
    "Picture - seeming a binary to suggest if the person took it, likely a sign of emotion either way. <br>\n",
    "<br><br> And now:"
   ]
  },
  {
   "cell_type": "code",
   "execution_count": 4,
   "id": "5ca4f3d9",
   "metadata": {},
   "outputs": [],
   "source": [
    "df.drop('7514', axis=1, inplace=True) #Not only do I have no clue what this is, essentially it's all nulls..."
   ]
  },
  {
   "cell_type": "code",
   "execution_count": 5,
   "id": "308fa65f",
   "metadata": {},
   "outputs": [],
   "source": [
    "#Let's use our handly feautre analyzer formula again:\n",
    "#Somewhat adjusted now to just assume if texts (per the below criteria) to merely describe it so the screen doesn't get flooded.\n",
    "\n",
    "def variable_analyzer(df, col, categorical_norm=True):\n",
    "    print(f\"Now looking at feature {df.columns.get_loc(col)}, {col}.\")\n",
    "    nulls = df[col].isnull().sum()\n",
    "    if nulls > 0:\n",
    "        print(f\"Reminder that {df.columns[i]} has {nulls} nulls - deal with them noob.\")\n",
    "    print('~~~')\n",
    "    #The firs branch deals with numeric; second categorical.\n",
    "    if (10 <= len(df[df.columns[i]].value_counts()) and df[df.columns[i]].dtype in ['int64', 'float64']) or (len(df[df.columns[i]].value_counts()) and df[df.columns[i]].dtype == 'O'): #Arb. threshold\n",
    "        print(df[df.columns[i]].describe()) #note that display could be another option.\n",
    "    else:\n",
    "        print(f\"{df.columns[i]} has {df[df.columns[i]].value_counts().count()} categories.\")\n",
    "        print(df[df.columns[i]].value_counts(normalize=categorical_norm))"
   ]
  },
  {
   "cell_type": "code",
   "execution_count": 6,
   "id": "8e0ac667",
   "metadata": {},
   "outputs": [],
   "source": [
    "i = -1"
   ]
  },
  {
   "cell_type": "code",
   "execution_count": 7,
   "id": "f0042286",
   "metadata": {},
   "outputs": [
    {
     "name": "stdout",
     "output_type": "stream",
     "text": [
      "Now looking at feature 0, restaurant.\n",
      "~~~\n",
      "count               10000\n",
      "unique                100\n",
      "top       Beyond Flavours\n",
      "freq                  100\n",
      "Name: restaurant, dtype: object\n"
     ]
    }
   ],
   "source": [
    "i += 1\n",
    "variable_analyzer(df, df.columns[i])"
   ]
  },
  {
   "cell_type": "markdown",
   "id": "24311b1c",
   "metadata": {},
   "source": [
    "Oh, I didn't know that - an even 100 restaurants. Might be worthwhile to group then each one's reviews separately. As, perhaps one's 'good' is another's 'mediocre'. Regardless, we won't be that specific and continue, mushing them all together (into one giant cholent)."
   ]
  },
  {
   "cell_type": "code",
   "execution_count": 8,
   "id": "18e99d97",
   "metadata": {},
   "outputs": [
    {
     "name": "stdout",
     "output_type": "stream",
     "text": [
      "Now looking at feature 1, reviewer.\n",
      "Reminder that reviewer has 38 nulls - deal with them noob.\n",
      "~~~\n",
      "count            9962\n",
      "unique           7446\n",
      "top       Parijat Ray\n",
      "freq               13\n",
      "Name: reviewer, dtype: object\n"
     ]
    }
   ],
   "source": [
    "i += 1\n",
    "variable_analyzer(df, df.columns[i])"
   ]
  },
  {
   "cell_type": "code",
   "execution_count": 9,
   "id": "ca1f8414",
   "metadata": {},
   "outputs": [
    {
     "data": {
      "text/plain": [
       "count            9962\n",
       "unique           7446\n",
       "top       Parijat Ray\n",
       "freq               13\n",
       "Name: reviewer, dtype: object"
      ]
     },
     "execution_count": 9,
     "metadata": {},
     "output_type": "execute_result"
    }
   ],
   "source": [
    "df['reviewer'].describe()"
   ]
  },
  {
   "cell_type": "markdown",
   "id": "7201310e",
   "metadata": {},
   "source": [
    "Hmm, with the top reviewer only having 13 reviews I won't bother doing anything with reviewer (to potentially analyze their own persoanl usage of whatever words)."
   ]
  },
  {
   "cell_type": "code",
   "execution_count": 10,
   "id": "a3e450d4",
   "metadata": {},
   "outputs": [
    {
     "name": "stdout",
     "output_type": "stream",
     "text": [
      "Now looking at feature 2, review.\n",
      "Reminder that review has 45 nulls - deal with them noob.\n",
      "~~~\n",
      "count     9955\n",
      "unique    9364\n",
      "top       good\n",
      "freq       237\n",
      "Name: review, dtype: object\n"
     ]
    }
   ],
   "source": [
    "i += 1\n",
    "variable_analyzer(df, df.columns[i])"
   ]
  },
  {
   "cell_type": "code",
   "execution_count": 11,
   "id": "c77ed0d3",
   "metadata": {},
   "outputs": [],
   "source": [
    "j =-1"
   ]
  },
  {
   "cell_type": "code",
   "execution_count": 12,
   "id": "6a004e52",
   "metadata": {},
   "outputs": [
    {
     "name": "stdout",
     "output_type": "stream",
     "text": [
      "Currently looking at the 0 indexed review\n"
     ]
    },
    {
     "data": {
      "text/plain": [
       "'The ambience was good, food was quite good . had Saturday lunch , which was cost effective .\\nGood place for a sate brunch. One can also chill with friends and or parents.\\nWaiter Soumen Das was really courteous and helpful.'"
      ]
     },
     "execution_count": 12,
     "metadata": {},
     "output_type": "execute_result"
    }
   ],
   "source": [
    "j += 1\n",
    "print(f\"Currently looking at the {j} indexed review\")\n",
    "df['review'][j] #To look at least a few of them (change code as desired())"
   ]
  },
  {
   "cell_type": "code",
   "execution_count": 13,
   "id": "f6226505",
   "metadata": {},
   "outputs": [
    {
     "name": "stdout",
     "output_type": "stream",
     "text": [
      "Now looking at feature 3, rating.\n",
      "Reminder that rating has 38 nulls - deal with them noob.\n",
      "~~~\n",
      "count     9962\n",
      "unique      10\n",
      "top          5\n",
      "freq      3832\n",
      "Name: rating, dtype: object\n"
     ]
    }
   ],
   "source": [
    "i += 1\n",
    "variable_analyzer(df, df.columns[i])"
   ]
  },
  {
   "cell_type": "markdown",
   "id": "2500c3a7",
   "metadata": {},
   "source": [
    "Odd, it's showing up as an object. Let's clean this up (data entry stuff as sometimes numbers get recorded as 'strings', like a letter, making it unable to do mathematical observations about it.)<br>\n",
    "Depending upon the context (ie excellent isn't exactly '5', with the numbers conveying more of a sliding scale), it might be worthwhile to categorize them. However, without any additional knowledge I won't assume so.<br><br>\n",
    "See below though as it seems what's causing them to be considered an object is that one like. And hence, the first dilemma - what to do?<br>Well, let's start with actually reading it:"
   ]
  },
  {
   "cell_type": "code",
   "execution_count": 22,
   "id": "3b7a70bb",
   "metadata": {},
   "outputs": [
    {
     "data": {
      "text/plain": [
       "rating\n",
       "5      3832\n",
       "4      2373\n",
       "1      1735\n",
       "3      1193\n",
       "2       684\n",
       "4.5      69\n",
       "3.5      47\n",
       "2.5      19\n",
       "1.5       9\n",
       "5         1\n",
       "Name: count, dtype: int64"
      ]
     },
     "execution_count": 22,
     "metadata": {},
     "output_type": "execute_result"
    }
   ],
   "source": [
    "df['rating'].value_counts()"
   ]
  },
  {
   "cell_type": "code",
   "execution_count": 15,
   "id": "f1fc9868",
   "metadata": {},
   "outputs": [],
   "source": [
    "review_row = df[df['rating']=='Like'].index[0] #To make referencing it easier\n",
    "df.loc[review_row, 'review']"
   ]
  },
  {
   "cell_type": "markdown",
   "id": "79e1eff4",
   "metadata": {},
   "source": [
    "This is quite a positive review. However, I'm unsure if this person would rate this a 4, 4.5, or 5?<br><br>In a regular work scenario I would likely drop it as we have more than enough data to work with, however for the same of my demo I will replace this with a 5 (being the dominant class of the three options I would narrow this down to) purely for a vain reason - I want to say I workd with 10k records (I might be talking about this a lot so I'd rather make an even 10k)."
   ]
  },
  {
   "cell_type": "code",
   "execution_count": 18,
   "id": "495db84f",
   "metadata": {},
   "outputs": [],
   "source": [
    "df.loc[review_row, 'rating'] = 5"
   ]
  },
  {
   "cell_type": "markdown",
   "id": "c54c3cec",
   "metadata": {},
   "source": [
    "I still need to deal with the nulls now too. Eh, see above as I'll also fill these in. Since we have 38 I'll use the median, a typical choice for filling null values. <br>Hmm, upon cleeaning the data I confirmed that the data was stored as a string. Let's take care of that too."
   ]
  },
  {
   "cell_type": "code",
   "execution_count": 27,
   "id": "c3d74454",
   "metadata": {},
   "outputs": [],
   "source": [
    "df['rating'] = pd.to_numeric(df['rating'], errors='coerce')"
   ]
  },
  {
   "cell_type": "code",
   "execution_count": 31,
   "id": "6721907f",
   "metadata": {},
   "outputs": [
    {
     "name": "stdout",
     "output_type": "stream",
     "text": [
      "The median rating is 4.0.\n"
     ]
    }
   ],
   "source": [
    "print(f\"The median rating is {df['rating'].median()}.\")\n",
    "df['rating'].fillna(df['rating'].median(), inplace=True)"
   ]
  },
  {
   "cell_type": "code",
   "execution_count": 33,
   "id": "a69959b4",
   "metadata": {},
   "outputs": [
    {
     "name": "stdout",
     "output_type": "stream",
     "text": [
      "Now looking at feature 3, rating.\n",
      "~~~\n",
      "rating has 9 categories.\n",
      "rating\n",
      "5.0    0.3833\n",
      "4.0    0.2411\n",
      "1.0    0.1735\n",
      "3.0    0.1193\n",
      "2.0    0.0684\n",
      "4.5    0.0069\n",
      "3.5    0.0047\n",
      "2.5    0.0019\n",
      "1.5    0.0009\n",
      "Name: proportion, dtype: float64\n"
     ]
    }
   ],
   "source": [
    "#Now to propely see and comment on this.\n",
    "variable_analyzer(df, df.columns[i])"
   ]
  },
  {
   "cell_type": "code",
   "execution_count": 35,
   "id": "f11258d3",
   "metadata": {},
   "outputs": [
    {
     "data": {
      "text/plain": [
       "count    10000.000000\n",
       "mean         3.602700\n",
       "std          1.480835\n",
       "min          1.000000\n",
       "25%          3.000000\n",
       "50%          4.000000\n",
       "75%          5.000000\n",
       "max          5.000000\n",
       "Name: rating, dtype: float64"
      ]
     },
     "execution_count": 35,
     "metadata": {},
     "output_type": "execute_result"
    }
   ],
   "source": [
    "df['rating'].describe() #Per how many quick-glance code is I need to manually do this. So too for anything else a bit more\n",
    "#peculiar, like metadata coming up."
   ]
  },
  {
   "cell_type": "markdown",
   "id": "13699ca8",
   "metadata": {},
   "source": [
    "Interesting. So we see an ovrwhelming majority of positive reviews (appox 62%) with negatives (2 and below) being about 23%. Let's see how accurately our sentiment will be able to pick up on this."
   ]
  },
  {
   "cell_type": "code",
   "execution_count": 36,
   "id": "bdf7eb23",
   "metadata": {},
   "outputs": [
    {
     "name": "stdout",
     "output_type": "stream",
     "text": [
      "Now looking at feature 4, metadata.\n",
      "Reminder that metadata has 38 nulls - deal with them noob.\n",
      "~~~\n",
      "count         9962\n",
      "unique        2477\n",
      "top       1 Review\n",
      "freq           919\n",
      "Name: metadata, dtype: object\n"
     ]
    }
   ],
   "source": [
    "i += 1\n",
    "variable_analyzer(df, df.columns[i])"
   ]
  },
  {
   "cell_type": "code",
   "execution_count": 38,
   "id": "c6967cfc",
   "metadata": {},
   "outputs": [
    {
     "data": {
      "text/plain": [
       "metadata\n",
       "1 Review                        919\n",
       "1 Review , 1 Follower           750\n",
       "2 Reviews , 1 Follower          337\n",
       "2 Reviews                       262\n",
       "1 Review , 2 Followers          227\n",
       "                               ... \n",
       "22 Reviews , 22 Followers         1\n",
       "14 Reviews , 94 Followers         1\n",
       "32 Reviews , 1445 Followers       1\n",
       "33 Reviews , 8 Followers          1\n",
       "472 Reviews , 1302 Followers      1\n",
       "Name: count, Length: 2477, dtype: int64"
      ]
     },
     "execution_count": 38,
     "metadata": {},
     "output_type": "execute_result"
    }
   ],
   "source": [
    "df['metadata'].value_counts()"
   ]
  },
  {
   "cell_type": "markdown",
   "id": "0e1ca9a0",
   "metadata": {},
   "source": [
    "Hmm, this is interesting. This seems to be two different columns shmushed into one wtih a recording of how many food reviews they did and how many people follow them for whatever reason (entirely food-based or not).<br>\n",
    "For the sake of this sentiment analysis demo I doubt I'll get into it, but at least I'll do the following:"
   ]
  },
  {
   "cell_type": "code",
   "execution_count": 43,
   "id": "cbb6639d",
   "metadata": {},
   "outputs": [
    {
     "data": {
      "text/plain": [
       "rating\n",
       "5.0    0.528836\n",
       "1.0    0.266594\n",
       "4.0    0.078346\n",
       "2.0    0.067465\n",
       "3.0    0.056583\n",
       "4.5    0.001088\n",
       "2.5    0.001088\n",
       "Name: proportion, dtype: float64"
      ]
     },
     "execution_count": 43,
     "metadata": {},
     "output_type": "execute_result"
    }
   ],
   "source": [
    "df[df['metadata']=='1 Review']['rating'].value_counts(normalize=True)"
   ]
  },
  {
   "cell_type": "markdown",
   "id": "adbb1a79",
   "metadata": {},
   "source": [
    "Hmm. Recall that the plurality of any review was positive. However, this intrigues me - did the food astonsih and inspire and woo them so much that they just made a social media post, their first one (review), just for this? Yeah, this for sure is a fun column. Perhaps we'll go deeper than a simple sentiment analysis. We'll see.<br>I just got excited thinking about separating them then engineering a 'new column' reflecting online-presence, a scalar of reviews and followers."
   ]
  },
  {
   "cell_type": "code",
   "execution_count": 44,
   "id": "c93bd4d8",
   "metadata": {},
   "outputs": [
    {
     "name": "stdout",
     "output_type": "stream",
     "text": [
      "Now looking at feature 5, time.\n",
      "Reminder that time has 38 nulls - deal with them noob.\n",
      "~~~\n",
      "count                9962\n",
      "unique               9782\n",
      "top       7/29/2018 20:34\n",
      "freq                    3\n",
      "Name: time, dtype: object\n"
     ]
    }
   ],
   "source": [
    "i += 1\n",
    "variable_analyzer(df, df.columns[i])"
   ]
  },
  {
   "cell_type": "markdown",
   "id": "9d40c120",
   "metadata": {},
   "source": [
    "Yeah, we're not bothering with this one (see above)."
   ]
  },
  {
   "cell_type": "code",
   "execution_count": 45,
   "id": "0d1fe93b",
   "metadata": {},
   "outputs": [
    {
     "name": "stdout",
     "output_type": "stream",
     "text": [
      "Now looking at feature 6, pictures.\n",
      "~~~\n",
      "count    10000.000000\n",
      "mean         0.748600\n",
      "std          2.570381\n",
      "min          0.000000\n",
      "25%          0.000000\n",
      "50%          0.000000\n",
      "75%          0.000000\n",
      "max         64.000000\n",
      "Name: pictures, dtype: float64\n"
     ]
    }
   ],
   "source": [
    "i += 1\n",
    "variable_analyzer(df, df.columns[i])"
   ]
  },
  {
   "cell_type": "code",
   "execution_count": 47,
   "id": "bbf0c6ff",
   "metadata": {},
   "outputs": [
    {
     "data": {
      "text/plain": [
       "pictures\n",
       "0    8016\n",
       "1     707\n",
       "2     383\n",
       "3     246\n",
       "4     129\n",
       "5     116\n",
       "7      86\n",
       "6      85\n",
       "8      55\n",
       "9      47\n",
       "Name: count, dtype: int64"
      ]
     },
     "execution_count": 47,
     "metadata": {},
     "output_type": "execute_result"
    }
   ],
   "source": [
    "df['pictures'].value_counts()[:10]"
   ]
  },
  {
   "cell_type": "markdown",
   "id": "050795f6",
   "metadata": {},
   "source": [
    "Likely accompanying the picture to enhance their review/emotionn. We'll look at a few before continuing:"
   ]
  },
  {
   "cell_type": "code",
   "execution_count": 50,
   "id": "9d6cbbab",
   "metadata": {},
   "outputs": [
    {
     "data": {
      "text/plain": [
       "count    8016.000000\n",
       "mean        3.538049\n",
       "std         1.558263\n",
       "min         1.000000\n",
       "25%         2.000000\n",
       "50%         4.000000\n",
       "75%         5.000000\n",
       "max         5.000000\n",
       "Name: rating, dtype: float64"
      ]
     },
     "execution_count": 50,
     "metadata": {},
     "output_type": "execute_result"
    }
   ],
   "source": [
    "df[df['pictures']==0]['rating'].describe()"
   ]
  },
  {
   "cell_type": "code",
   "execution_count": 51,
   "id": "95c69133",
   "metadata": {},
   "outputs": [
    {
     "data": {
      "text/plain": [
       "count    1984.000000\n",
       "mean        3.863911\n",
       "std         1.075973\n",
       "min         1.000000\n",
       "25%         3.000000\n",
       "50%         4.000000\n",
       "75%         5.000000\n",
       "max         5.000000\n",
       "Name: rating, dtype: float64"
      ]
     },
     "execution_count": 51,
     "metadata": {},
     "output_type": "execute_result"
    }
   ],
   "source": [
    "df[df['pictures']>0]['rating'].describe()"
   ]
  },
  {
   "cell_type": "markdown",
   "id": "5bc1262c",
   "metadata": {},
   "source": [
    "Hmm, there is a higher mean with the more pictures. Likely showing more emotion. I wonder if also correlated to followers (and review)."
   ]
  },
  {
   "cell_type": "markdown",
   "id": "b9b92a16",
   "metadata": {},
   "source": [
    "## Text Clean Up\n",
    "\n",
    "Well, we did basic EDA. Onto the special stuff that's motivating me to demeo this project.<br><br> Yeah, I'm too interested in the metadata not to look at it. We'll deal with that first as it should be quicker as well as saving our main focus for the end."
   ]
  },
  {
   "cell_type": "code",
   "execution_count": 91,
   "id": "9ea54e80",
   "metadata": {},
   "outputs": [],
   "source": [
    "#Code I found to much more elegantly clean this up.\n",
    "def extract_count(text, keyword):\n",
    "    if not isinstance(text, str):\n",
    "        return 0\n",
    "    \n",
    "    text = text.lower()\n",
    "    keyword = keyword.lower()\n",
    "\n",
    "    pattern = fr'(\\d+)\\s*{re.escape(keyword)}s?'\n",
    "    match = re.search(pattern, text)\n",
    "    \n",
    "    if match:\n",
    "        return int(match.group(1))\n",
    "    return None"
   ]
  },
  {
   "cell_type": "code",
   "execution_count": 92,
   "id": "6bdb4134",
   "metadata": {},
   "outputs": [],
   "source": [
    "df['number_of_reviews'] = df['metadata'].apply(lambda x: extract_count(x, 'review'))"
   ]
  },
  {
   "cell_type": "code",
   "execution_count": 99,
   "id": "ee0fd4d1",
   "metadata": {},
   "outputs": [],
   "source": [
    "df['number_of_reviews'].fillna(0, inplace=True) #Any remaiing nulls, which seemingly come about when review isn't in the text, are\n",
    "#definitionally 0s. So too below."
   ]
  },
  {
   "cell_type": "code",
   "execution_count": 100,
   "id": "c7273f9e",
   "metadata": {},
   "outputs": [
    {
     "data": {
      "text/plain": [
       "number_of_reviews\n",
       "1.0      2480\n",
       "2.0      1166\n",
       "3.0       714\n",
       "4.0       501\n",
       "5.0       371\n",
       "         ... \n",
       "149.0       1\n",
       "103.0       1\n",
       "223.0       1\n",
       "390.0       1\n",
       "472.0       1\n",
       "Name: count, Length: 234, dtype: int64"
      ]
     },
     "execution_count": 100,
     "metadata": {},
     "output_type": "execute_result"
    }
   ],
   "source": [
    "df['number_of_reviews'].value_counts()"
   ]
  },
  {
   "cell_type": "code",
   "execution_count": 101,
   "id": "d04427ea",
   "metadata": {},
   "outputs": [
    {
     "data": {
      "text/plain": [
       "count    10000.000000\n",
       "mean        23.853900\n",
       "std         50.515055\n",
       "min          0.000000\n",
       "25%          1.000000\n",
       "50%          4.000000\n",
       "75%         22.000000\n",
       "max       1031.000000\n",
       "Name: number_of_reviews, dtype: float64"
      ]
     },
     "execution_count": 101,
     "metadata": {},
     "output_type": "execute_result"
    }
   ],
   "source": [
    "df['number_of_reviews'].describe()"
   ]
  },
  {
   "cell_type": "code",
   "execution_count": 112,
   "id": "2a338b74",
   "metadata": {},
   "outputs": [
    {
     "data": {
      "text/plain": [
       "count    2685.000000\n",
       "mean        3.641713\n",
       "std         1.712454\n",
       "min         1.000000\n",
       "25%         2.000000\n",
       "50%         5.000000\n",
       "75%         5.000000\n",
       "max         5.000000\n",
       "Name: rating, dtype: float64"
      ]
     },
     "execution_count": 112,
     "metadata": {},
     "output_type": "execute_result"
    }
   ],
   "source": [
    "df[df['number_of_reviews']<2]['rating'].describe()"
   ]
  },
  {
   "cell_type": "code",
   "execution_count": 113,
   "id": "8acb5a7e",
   "metadata": {},
   "outputs": [
    {
     "data": {
      "text/plain": [
       "count    7315.000000\n",
       "mean        3.588380\n",
       "std         1.385997\n",
       "min         1.000000\n",
       "25%         3.000000\n",
       "50%         4.000000\n",
       "75%         5.000000\n",
       "max         5.000000\n",
       "Name: rating, dtype: float64"
      ]
     },
     "execution_count": 113,
     "metadata": {},
     "output_type": "execute_result"
    }
   ],
   "source": [
    "df[df['number_of_reviews']>=2]['rating'].describe()"
   ]
  },
  {
   "cell_type": "markdown",
   "id": "af35339a",
   "metadata": {},
   "source": [
    "All right, that should be all cleaned up now. Let's finally comment.<br><br>\n",
    "Generally one review, yet once you get past one it really explodes. Likely a similar tred below. Also, notice at how incredibly skewed to the right the data is with a mean of almost 24; yet a median of only 4!<br>Hmm, this requires some more investigation later as bisecting the ratings at 2 reviws yields a close enough median and close media (as we assumed a 4 is still positive). At some point the casual becomes a critic, hence, it makes sense to expect a lower average as reviews increase."
   ]
  },
  {
   "cell_type": "code",
   "execution_count": 95,
   "id": "36c7f9e7",
   "metadata": {},
   "outputs": [],
   "source": [
    "df['number_of_followers'] = df['metadata'].apply(lambda x: extract_count(x, 'follow'))"
   ]
  },
  {
   "cell_type": "code",
   "execution_count": 102,
   "id": "fe3b0308",
   "metadata": {},
   "outputs": [],
   "source": [
    "df['number_of_followers'].fillna(0, inplace=True)"
   ]
  },
  {
   "cell_type": "code",
   "execution_count": 114,
   "id": "2f125b39",
   "metadata": {},
   "outputs": [
    {
     "data": {
      "text/plain": [
       "number_of_followers\n",
       "1.0       1634\n",
       "0.0       1616\n",
       "2.0        695\n",
       "3.0        387\n",
       "4.0        279\n",
       "          ... \n",
       "1600.0       1\n",
       "1127.0       1\n",
       "1196.0       1\n",
       "1453.0       1\n",
       "423.0        1\n",
       "Name: count, Length: 751, dtype: int64"
      ]
     },
     "execution_count": 114,
     "metadata": {},
     "output_type": "execute_result"
    }
   ],
   "source": [
    "df['number_of_followers'].value_counts()"
   ]
  },
  {
   "cell_type": "code",
   "execution_count": 115,
   "id": "caf97646",
   "metadata": {},
   "outputs": [
    {
     "data": {
      "text/plain": [
       "count    10000.000000\n",
       "mean       162.374800\n",
       "std        618.852357\n",
       "min          0.000000\n",
       "25%          1.000000\n",
       "50%          6.000000\n",
       "75%         63.000000\n",
       "max      13410.000000\n",
       "Name: number_of_followers, dtype: float64"
      ]
     },
     "execution_count": 115,
     "metadata": {},
     "output_type": "execute_result"
    }
   ],
   "source": [
    "df['number_of_followers'].describe()"
   ]
  },
  {
   "cell_type": "code",
   "execution_count": 117,
   "id": "8f443ec3",
   "metadata": {},
   "outputs": [
    {
     "data": {
      "text/plain": [
       "count    3250.000000\n",
       "mean        3.490923\n",
       "std         1.688999\n",
       "min         1.000000\n",
       "25%         1.000000\n",
       "50%         4.000000\n",
       "75%         5.000000\n",
       "max         5.000000\n",
       "Name: rating, dtype: float64"
      ]
     },
     "execution_count": 117,
     "metadata": {},
     "output_type": "execute_result"
    }
   ],
   "source": [
    "df[df['number_of_followers']<2]['rating'].describe()"
   ]
  },
  {
   "cell_type": "code",
   "execution_count": 118,
   "id": "897dcd19",
   "metadata": {},
   "outputs": [
    {
     "data": {
      "text/plain": [
       "count    6750.000000\n",
       "mean        3.656519\n",
       "std         1.366247\n",
       "min         1.000000\n",
       "25%         3.000000\n",
       "50%         4.000000\n",
       "75%         5.000000\n",
       "max         5.000000\n",
       "Name: rating, dtype: float64"
      ]
     },
     "execution_count": 118,
     "metadata": {},
     "output_type": "execute_result"
    }
   ],
   "source": [
    "df[df['number_of_followers']>=2]['rating'].describe()"
   ]
  },
  {
   "cell_type": "markdown",
   "id": "44102959",
   "metadata": {},
   "source": [
    "A similar trend to above, with the same difference being the scale (here the proportion from the mean to the median is even more exaggerated: 162 to 6! Ultimtely, this scale makes sense as the online post scales to generally generate multiple followes per published item."
   ]
  },
  {
   "cell_type": "code",
   "execution_count": 105,
   "id": "f2a49a8e",
   "metadata": {},
   "outputs": [],
   "source": [
    "df['number_of_posts'] = df['metadata'].apply(lambda x: extract_count(x, 'post'))"
   ]
  },
  {
   "cell_type": "code",
   "execution_count": 120,
   "id": "8b078026",
   "metadata": {},
   "outputs": [],
   "source": [
    "df['number_of_posts'].fillna(0, inplace=True)"
   ]
  },
  {
   "cell_type": "code",
   "execution_count": 121,
   "id": "bfc2ce49",
   "metadata": {},
   "outputs": [
    {
     "data": {
      "text/plain": [
       "number_of_posts\n",
       "0.0      9994\n",
       "1.0         1\n",
       "89.0        1\n",
       "82.0        1\n",
       "151.0       1\n",
       "47.0        1\n",
       "88.0        1\n",
       "Name: count, dtype: int64"
      ]
     },
     "execution_count": 121,
     "metadata": {},
     "output_type": "execute_result"
    }
   ],
   "source": [
    "df['number_of_posts'].value_counts()"
   ]
  },
  {
   "cell_type": "code",
   "execution_count": 123,
   "id": "5c28a228",
   "metadata": {},
   "outputs": [
    {
     "data": {
      "text/plain": [
       "count    10000.000000\n",
       "mean         0.045800\n",
       "std          2.176781\n",
       "min          0.000000\n",
       "25%          0.000000\n",
       "50%          0.000000\n",
       "75%          0.000000\n",
       "max        151.000000\n",
       "Name: number_of_posts, dtype: float64"
      ]
     },
     "execution_count": 123,
     "metadata": {},
     "output_type": "execute_result"
    }
   ],
   "source": [
    "df['number_of_posts'].describe()"
   ]
  },
  {
   "cell_type": "code",
   "execution_count": 127,
   "id": "dc650a2f",
   "metadata": {},
   "outputs": [
    {
     "data": {
      "text/plain": [
       "count    9994.000000\n",
       "mean        3.602311\n",
       "std         1.481165\n",
       "min         1.000000\n",
       "25%         3.000000\n",
       "50%         4.000000\n",
       "75%         5.000000\n",
       "max         5.000000\n",
       "Name: rating, dtype: float64"
      ]
     },
     "execution_count": 127,
     "metadata": {},
     "output_type": "execute_result"
    }
   ],
   "source": [
    "df[df['number_of_posts']==0]['rating'].describe()"
   ]
  },
  {
   "cell_type": "code",
   "execution_count": 128,
   "id": "17d71787",
   "metadata": {},
   "outputs": [
    {
     "data": {
      "text/plain": [
       "count    6.00000\n",
       "mean     4.25000\n",
       "std      0.41833\n",
       "min      4.00000\n",
       "25%      4.00000\n",
       "50%      4.00000\n",
       "75%      4.37500\n",
       "max      5.00000\n",
       "Name: rating, dtype: float64"
      ]
     },
     "execution_count": 128,
     "metadata": {},
     "output_type": "execute_result"
    }
   ],
   "source": [
    "df[df['number_of_posts']>0]['rating'].describe()"
   ]
  },
  {
   "cell_type": "markdown",
   "id": "4b28d301",
   "metadata": {},
   "source": [
    "Almost negligible upon actually looking at it, with almost everything being 0/no posts. However, maybe it'll make a difference. Likely when we make the social-presence we'll not include this (as otherwise everything just becomes 0, multiplying it into the mix....)."
   ]
  },
  {
   "cell_type": "markdown",
   "id": "e0824067",
   "metadata": {},
   "source": [
    "### Reviews to Features\n",
    "\n",
    "The time has come."
   ]
  },
  {
   "cell_type": "code",
   "execution_count": null,
   "id": "377f54a5",
   "metadata": {},
   "outputs": [],
   "source": []
  },
  {
   "cell_type": "code",
   "execution_count": null,
   "id": "6aff10d4",
   "metadata": {},
   "outputs": [],
   "source": []
  },
  {
   "cell_type": "code",
   "execution_count": null,
   "id": "f7794b9f",
   "metadata": {},
   "outputs": [],
   "source": []
  }
 ],
 "metadata": {
  "kernelspec": {
   "display_name": "Python 3 (ipykernel)",
   "language": "python",
   "name": "python3"
  },
  "language_info": {
   "codemirror_mode": {
    "name": "ipython",
    "version": 3
   },
   "file_extension": ".py",
   "mimetype": "text/x-python",
   "name": "python",
   "nbconvert_exporter": "python",
   "pygments_lexer": "ipython3",
   "version": "3.11.5"
  }
 },
 "nbformat": 4,
 "nbformat_minor": 5
}
